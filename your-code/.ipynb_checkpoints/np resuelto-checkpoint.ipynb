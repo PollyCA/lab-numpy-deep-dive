{
 "cells": [
  {
   "cell_type": "markdown",
   "id": "married-modern",
   "metadata": {},
   "source": [
    "#1. Import the NUMPY package under the name np.\n"
   ]
  },
  {
   "cell_type": "code",
   "execution_count": 5,
   "id": "frequent-armstrong",
   "metadata": {},
   "outputs": [],
   "source": [
    "import numpy as np"
   ]
  },
  {
   "cell_type": "markdown",
   "id": "typical-mason",
   "metadata": {},
   "source": [
    "#2. Print the NUMPY version and the configuration.\n",
    "\n"
   ]
  },
  {
   "cell_type": "code",
   "execution_count": 6,
   "id": "communist-control",
   "metadata": {},
   "outputs": [
    {
     "name": "stdout",
     "output_type": "stream",
     "text": [
      "1.20.2\n"
     ]
    }
   ],
   "source": [
    "print(np.__version__)"
   ]
  },
  {
   "cell_type": "markdown",
   "id": "incomplete-token",
   "metadata": {},
   "source": [
    "#3. Generate a 2x3x5 3-dimensional array with random values. Assign the array to variable \"a\"\n",
    "#Challenge: there are at least three easy ways that use numpy to generate random arrays. How many ways can you find?\n",
    "\n"
   ]
  },
  {
   "cell_type": "code",
   "execution_count": 7,
   "id": "reserved-lecture",
   "metadata": {},
   "outputs": [
    {
     "data": {
      "text/plain": [
       "array([[[0.42198889, 0.50821952, 0.83515738, 0.76661526, 0.27515085],\n",
       "        [0.03658686, 0.24392097, 0.2941045 , 0.20913978, 0.28157468],\n",
       "        [0.317705  , 0.9692637 , 0.64713364, 0.96235169, 0.09644416]],\n",
       "\n",
       "       [[0.10470082, 0.72538395, 0.71715531, 0.85791838, 0.2437644 ],\n",
       "        [0.64386465, 0.29342529, 0.12556522, 0.06724587, 0.60079397],\n",
       "        [0.30355141, 0.61288952, 0.47638457, 0.95632188, 0.98228356]]])"
      ]
     },
     "execution_count": 7,
     "metadata": {},
     "output_type": "execute_result"
    }
   ],
   "source": [
    "# Method_1\n",
    "\n",
    "a = np.random.random((2,3,5))\n",
    "\n",
    "a"
   ]
  },
  {
   "cell_type": "code",
   "execution_count": 8,
   "id": "educational-occurrence",
   "metadata": {},
   "outputs": [
    {
     "data": {
      "text/plain": [
       "array([[[0.59032292, 0.9894972 , 0.75976039, 0.80800894, 0.09738938],\n",
       "        [0.85259432, 0.17657565, 0.67189109, 0.48113621, 0.92753706],\n",
       "        [0.06951464, 0.77046314, 0.97744839, 0.81569401, 0.49770263]],\n",
       "\n",
       "       [[0.92077707, 0.00866543, 0.54892685, 0.25135529, 0.19628981],\n",
       "        [0.81379307, 0.7646238 , 0.56674625, 0.68285856, 0.43013471],\n",
       "        [0.73988965, 0.45584267, 0.74108524, 0.29925479, 0.32088672]]])"
      ]
     },
     "execution_count": 8,
     "metadata": {},
     "output_type": "execute_result"
    }
   ],
   "source": [
    "# Method_2\n",
    "\n",
    "a = np.random.sample((2,3,5))\n",
    "\n",
    "a"
   ]
  },
  {
   "cell_type": "code",
   "execution_count": 9,
   "id": "cardiovascular-current",
   "metadata": {},
   "outputs": [
    {
     "data": {
      "text/plain": [
       "array([[[0.80526416, 0.31664708, 0.43133704, 0.74452685, 0.68045493],\n",
       "        [0.52299074, 0.81790598, 0.08229111, 0.89851063, 0.92209031],\n",
       "        [0.57777216, 0.33618776, 0.23604874, 0.0093078 , 0.66673994]],\n",
       "\n",
       "       [[0.30383723, 0.74982735, 0.01762385, 0.44194133, 0.23535119],\n",
       "        [0.96944397, 0.96738923, 0.40743328, 0.26350096, 0.8624581 ],\n",
       "        [0.59206815, 0.80206881, 0.45160314, 0.33481377, 0.60271632]]])"
      ]
     },
     "execution_count": 9,
     "metadata": {},
     "output_type": "execute_result"
    }
   ],
   "source": [
    "# Method_3\n",
    "\n",
    "a = np.random.rand(2,3,5)\n",
    "\n",
    "a"
   ]
  },
  {
   "cell_type": "markdown",
   "id": "urban-experiment",
   "metadata": {},
   "source": [
    "#4. Print a."
   ]
  },
  {
   "cell_type": "code",
   "execution_count": 10,
   "id": "strategic-maintenance",
   "metadata": {},
   "outputs": [
    {
     "name": "stdout",
     "output_type": "stream",
     "text": [
      "[[[0.80526416 0.31664708 0.43133704 0.74452685 0.68045493]\n",
      "  [0.52299074 0.81790598 0.08229111 0.89851063 0.92209031]\n",
      "  [0.57777216 0.33618776 0.23604874 0.0093078  0.66673994]]\n",
      "\n",
      " [[0.30383723 0.74982735 0.01762385 0.44194133 0.23535119]\n",
      "  [0.96944397 0.96738923 0.40743328 0.26350096 0.8624581 ]\n",
      "  [0.59206815 0.80206881 0.45160314 0.33481377 0.60271632]]]\n"
     ]
    }
   ],
   "source": [
    "print(a)"
   ]
  },
  {
   "cell_type": "markdown",
   "id": "rational-aircraft",
   "metadata": {},
   "source": [
    "#5. Create a 5x2x3 3-dimensional array with all values equaling 1.\n",
    "#Assign the array to variable \"b\""
   ]
  },
  {
   "cell_type": "code",
   "execution_count": 11,
   "id": "commercial-scope",
   "metadata": {},
   "outputs": [
    {
     "data": {
      "text/plain": [
       "array([[[1., 1., 1.],\n",
       "        [1., 1., 1.]],\n",
       "\n",
       "       [[1., 1., 1.],\n",
       "        [1., 1., 1.]],\n",
       "\n",
       "       [[1., 1., 1.],\n",
       "        [1., 1., 1.]],\n",
       "\n",
       "       [[1., 1., 1.],\n",
       "        [1., 1., 1.]],\n",
       "\n",
       "       [[1., 1., 1.],\n",
       "        [1., 1., 1.]]])"
      ]
     },
     "execution_count": 11,
     "metadata": {},
     "output_type": "execute_result"
    }
   ],
   "source": [
    "b = np.ones((5,2,3))\n",
    "\n",
    "b"
   ]
  },
  {
   "cell_type": "markdown",
   "id": "exterior-pound",
   "metadata": {},
   "source": [
    "#4. Print b."
   ]
  },
  {
   "cell_type": "code",
   "execution_count": 12,
   "id": "ethical-pregnancy",
   "metadata": {},
   "outputs": [
    {
     "name": "stdout",
     "output_type": "stream",
     "text": [
      "[[[1. 1. 1.]\n",
      "  [1. 1. 1.]]\n",
      "\n",
      " [[1. 1. 1.]\n",
      "  [1. 1. 1.]]\n",
      "\n",
      " [[1. 1. 1.]\n",
      "  [1. 1. 1.]]\n",
      "\n",
      " [[1. 1. 1.]\n",
      "  [1. 1. 1.]]\n",
      "\n",
      " [[1. 1. 1.]\n",
      "  [1. 1. 1.]]]\n"
     ]
    }
   ],
   "source": [
    "print(b)"
   ]
  },
  {
   "cell_type": "markdown",
   "id": "armed-intellectual",
   "metadata": {},
   "source": [
    "#7. Do a and b have the same size? How do you prove that in Python code?\n",
    "\n"
   ]
  },
  {
   "cell_type": "code",
   "execution_count": 13,
   "id": "weighted-radical",
   "metadata": {},
   "outputs": [
    {
     "name": "stdout",
     "output_type": "stream",
     "text": [
      "They are the same size\n"
     ]
    }
   ],
   "source": [
    "if a.size == b.size:\n",
    "    print(\"They are the same size\")\n",
    "else:\n",
    "    print(\"They don't\")"
   ]
  },
  {
   "cell_type": "markdown",
   "id": "modern-lawyer",
   "metadata": {},
   "source": [
    "#8. Are you able to add a and b? Why or why not?"
   ]
  },
  {
   "cell_type": "code",
   "execution_count": 14,
   "id": "heated-louisiana",
   "metadata": {},
   "outputs": [
    {
     "name": "stdout",
     "output_type": "stream",
     "text": [
      "No, because even tho they have the same size, the shapes are different.\n"
     ]
    }
   ],
   "source": [
    "print(\"No, because even tho they have the same size, the shapes are different.\")\n",
    "# c = a+b"
   ]
  },
  {
   "cell_type": "markdown",
   "id": "further-cotton",
   "metadata": {},
   "source": [
    "#9. Transpose b so that it has the same structure of a (i.e. become a 2x3x5 array). Assign the transposed array to varialbe \"c\"."
   ]
  },
  {
   "cell_type": "code",
   "execution_count": 15,
   "id": "determined-bible",
   "metadata": {},
   "outputs": [
    {
     "data": {
      "text/plain": [
       "(2, 3, 5)"
      ]
     },
     "execution_count": 15,
     "metadata": {},
     "output_type": "execute_result"
    }
   ],
   "source": [
    "c = np.transpose(b, axes=(1,2,0))\n",
    "c.shape"
   ]
  },
  {
   "cell_type": "markdown",
   "id": "proud-bowling",
   "metadata": {},
   "source": [
    "#10. Try to add a and c. Now it should work. Assign the sum to varialbe \"d\". But why does it work now?"
   ]
  },
  {
   "cell_type": "code",
   "execution_count": 16,
   "id": "comparative-disclosure",
   "metadata": {},
   "outputs": [],
   "source": [
    "d = a + c"
   ]
  },
  {
   "cell_type": "markdown",
   "id": "unable-programmer",
   "metadata": {},
   "source": [
    "#11. Print a and d. Notice the difference and relation of the two array in terms of the values? Explain.\n",
    "\n"
   ]
  },
  {
   "cell_type": "code",
   "execution_count": 23,
   "id": "grateful-automation",
   "metadata": {},
   "outputs": [
    {
     "name": "stdout",
     "output_type": "stream",
     "text": [
      "[[0.80526416 0.31664708 0.43133704 0.74452685 0.68045493]\n",
      " [0.52299074 0.81790598 0.08229111 0.89851063 0.92209031]\n",
      " [0.57777216 0.33618776 0.23604874 0.0093078  0.66673994]]\n"
     ]
    }
   ],
   "source": [
    "print(a[0])"
   ]
  },
  {
   "cell_type": "code",
   "execution_count": 24,
   "id": "sticky-riding",
   "metadata": {},
   "outputs": [
    {
     "name": "stdout",
     "output_type": "stream",
     "text": [
      "[[1.80526416 1.31664708 1.43133704 1.74452685 1.68045493]\n",
      " [1.52299074 1.81790598 1.08229111 1.89851063 1.92209031]\n",
      " [1.57777216 1.33618776 1.23604874 1.0093078  1.66673994]]\n"
     ]
    }
   ],
   "source": [
    "\n",
    "print(d[0])"
   ]
  },
  {
   "cell_type": "code",
   "execution_count": null,
   "id": "fantastic-wallace",
   "metadata": {},
   "outputs": [],
   "source": [
    "#The only difference that I notice is we just add 1 "
   ]
  },
  {
   "cell_type": "markdown",
   "id": "furnished-shoot",
   "metadata": {},
   "source": [
    "#12. Multiply a and c. Assign the result to e.\n",
    "\n"
   ]
  },
  {
   "cell_type": "code",
   "execution_count": 25,
   "id": "loaded-evening",
   "metadata": {},
   "outputs": [
    {
     "name": "stdout",
     "output_type": "stream",
     "text": [
      "[[[0.80526416 0.31664708 0.43133704 0.74452685 0.68045493]\n",
      "  [0.52299074 0.81790598 0.08229111 0.89851063 0.92209031]\n",
      "  [0.57777216 0.33618776 0.23604874 0.0093078  0.66673994]]\n",
      "\n",
      " [[0.30383723 0.74982735 0.01762385 0.44194133 0.23535119]\n",
      "  [0.96944397 0.96738923 0.40743328 0.26350096 0.8624581 ]\n",
      "  [0.59206815 0.80206881 0.45160314 0.33481377 0.60271632]]]\n"
     ]
    }
   ],
   "source": [
    "e = a * c\n",
    "print(e)"
   ]
  },
  {
   "cell_type": "markdown",
   "id": "parallel-valuable",
   "metadata": {},
   "source": [
    "#13. Does e equal to a? Why or why not?\n",
    "\n"
   ]
  },
  {
   "cell_type": "code",
   "execution_count": 26,
   "id": "subtle-sweden",
   "metadata": {},
   "outputs": [
    {
     "name": "stdout",
     "output_type": "stream",
     "text": [
      "Yes they´re equal\n"
     ]
    }
   ],
   "source": [
    "if np.array_equal(e,a):\n",
    "    print(\"Yes they´re equal\")\n",
    "    \n",
    "# C is the transpose of b who is only ones, so we`re just multiplying \"a\" by 1"
   ]
  },
  {
   "cell_type": "markdown",
   "id": "proud-large",
   "metadata": {},
   "source": [
    "#14. Identify the max, min, and mean values in d. Assign those values to variables \"d_max\", \"d_min\", and \"d_mean\""
   ]
  },
  {
   "cell_type": "code",
   "execution_count": 27,
   "id": "widespread-cycle",
   "metadata": {},
   "outputs": [
    {
     "name": "stdout",
     "output_type": "stream",
     "text": [
      "1.9694439744709313\n",
      "1.0093078018241004\n",
      "1.535005063547836\n"
     ]
    }
   ],
   "source": [
    "d_max = d.max()\n",
    "d_min = d.min()\n",
    "d_mean = d.mean()\n",
    "\n",
    "print(d_max)\n",
    "print(d_min)\n",
    "print(d_mean)"
   ]
  },
  {
   "cell_type": "markdown",
   "id": "federal-structure",
   "metadata": {},
   "source": [
    "#15. Now we want to label the values in d. First create an empty array \"f\" with the same shape (i.e. 2x3x5) as d using `np.empty`.\n",
    "\n"
   ]
  },
  {
   "cell_type": "code",
   "execution_count": 28,
   "id": "minus-commons",
   "metadata": {},
   "outputs": [],
   "source": [
    "f = np.empty([2,3,5])"
   ]
  },
  {
   "cell_type": "markdown",
   "id": "stupid-romantic",
   "metadata": {},
   "source": [
    "\n",
    "## 16. Populate the values in f. \n",
    "\n",
    "For each value in d, if it's larger than d_min but smaller than d_mean, assign 25 to the corresponding value in f.\n",
    "If a value in d is larger than d_mean but smaller than d_max, assign 75 to the corresponding value in f.\n",
    "If a value equals to d_mean, assign 50 to the corresponding value in f.\n",
    "Assign 0 to the corresponding value(s) in f for d_min in d.\n",
    "Assign 100 to the corresponding value(s) in f for d_max in d.\n",
    "In the end, f should have only the following values: 0, 25, 50, 75, and 100.\n",
    "Note: you don't have to use Numpy in this question.\n",
    "\n",
    "\n"
   ]
  },
  {
   "cell_type": "code",
   "execution_count": 29,
   "id": "integral-legend",
   "metadata": {},
   "outputs": [
    {
     "name": "stdout",
     "output_type": "stream",
     "text": [
      "[[[ 75  25  25  75  75]\n",
      "  [ 25  75  25  75  75]\n",
      "  [ 75  25  25   0  75]]\n",
      "\n",
      " [[ 25  75  25  25  25]\n",
      "  [100  75  25  25  75]\n",
      "  [ 75  75  25  25  75]]]\n"
     ]
    }
   ],
   "source": [
    "f = []\n",
    "for x in np.nditer(d):\n",
    "    if d_min < x < d_mean:\n",
    "        f += [25]\n",
    "    if d_mean < x < d_max:\n",
    "        f += [75]\n",
    "    if x == d_mean:\n",
    "        f += [50]\n",
    "    if x == d_min:\n",
    "        f += [0]\n",
    "    if x == d_max:\n",
    "        f += [100]\n",
    "    \n",
    "        \n",
    "f = np.reshape(f, d.shape) \n",
    "print(f)\n"
   ]
  },
  {
   "cell_type": "code",
   "execution_count": null,
   "id": "comfortable-allergy",
   "metadata": {},
   "outputs": [],
   "source": [
    "\"\"\"\n",
    "#17. Print d and f. Do you have your expected f?\n",
    "For instance, if your d is:\n",
    "array([[[1.85836099, 1.67064465, 1.62576044, 1.40243961, 1.88454931],\n",
    "        [1.75354326, 1.69403643, 1.36729252, 1.61415071, 1.12104981],\n",
    "        [1.72201435, 1.1862918 , 1.87078449, 1.7726778 , 1.88180042]],\n",
    "\n",
    "       [[1.44747908, 1.31673383, 1.02000951, 1.52218947, 1.97066381],\n",
    "        [1.79129243, 1.74983003, 1.96028037, 1.85166831, 1.65450881],\n",
    "        [1.18068344, 1.9587381 , 1.00656599, 1.93402165, 1.73514584]]])\n",
    "\n",
    "Your f should be:\n",
    "array([[[ 75.,  75.,  75.,  25.,  75.],\n",
    "        [ 75.,  75.,  25.,  25.,  25.],\n",
    "        [ 75.,  25.,  75.,  75.,  75.]],\n",
    "\n",
    "       [[ 25.,  25.,  25.,  25., 100.],\n",
    "        [ 75.,  75.,  75.,  75.,  75.],\n",
    "        [ 25.,  75.,   0.,  75.,  75.]]])\n",
    "\"\"\"\n",
    "\n"
   ]
  },
  {
   "cell_type": "code",
   "execution_count": 30,
   "id": "driving-refrigerator",
   "metadata": {},
   "outputs": [
    {
     "name": "stdout",
     "output_type": "stream",
     "text": [
      "[[[1.80526416 1.31664708 1.43133704 1.74452685 1.68045493]\n",
      "  [1.52299074 1.81790598 1.08229111 1.89851063 1.92209031]\n",
      "  [1.57777216 1.33618776 1.23604874 1.0093078  1.66673994]]\n",
      "\n",
      " [[1.30383723 1.74982735 1.01762385 1.44194133 1.23535119]\n",
      "  [1.96944397 1.96738923 1.40743328 1.26350096 1.8624581 ]\n",
      "  [1.59206815 1.80206881 1.45160314 1.33481377 1.60271632]]]\n",
      "[[[ 75  25  25  75  75]\n",
      "  [ 25  75  25  75  75]\n",
      "  [ 75  25  25   0  75]]\n",
      "\n",
      " [[ 25  75  25  25  25]\n",
      "  [100  75  25  25  75]\n",
      "  [ 75  75  25  25  75]]]\n"
     ]
    }
   ],
   "source": [
    "print(d)\n",
    "print(f)"
   ]
  },
  {
   "cell_type": "code",
   "execution_count": null,
   "id": "prospective-notion",
   "metadata": {},
   "outputs": [],
   "source": [
    "\"\"\"\n",
    "#18. Bonus question: instead of using numbers (i.e. 0, 25, 50, 75, and 100), how to use string values \n",
    "(\"A\", \"B\", \"C\", \"D\", and \"E\") to label the array elements? You are expecting the result to be:\n",
    "array([[[ 'D',  'D',  'D',  'B',  'D'],\n",
    "        [ 'D',  'D',  'B',  'B',  'B'],\n",
    "        [ 'D',  'B',  'D',  'D',  'D']],\n",
    "\n",
    "       [[ 'B',  'B',  'B',  'B',  'E'],\n",
    "        [ 'D',  'D',  'D',  'D',  'D'],\n",
    "        [ 'B',  'D',   'A',  'D', 'D']]])\n",
    "Again, you don't need Numpy in this question.\n",
    "\"\"\""
   ]
  },
  {
   "cell_type": "code",
   "execution_count": 31,
   "id": "flush-tobacco",
   "metadata": {},
   "outputs": [
    {
     "name": "stdout",
     "output_type": "stream",
     "text": [
      "[[['D' 'B' 'B' 'D' 'D']\n",
      "  ['B' 'D' 'B' 'D' 'D']\n",
      "  ['D' 'B' 'B' 'A' 'D']]\n",
      "\n",
      " [['B' 'D' 'B' 'B' 'B']\n",
      "  ['E' 'D' 'B' 'B' 'D']\n",
      "  ['D' 'D' 'B' 'B' 'D']]]\n"
     ]
    }
   ],
   "source": [
    "j = []\n",
    "for x in np.nditer(d):\n",
    "    if d_min < x < d_mean:\n",
    "        j += ['B']\n",
    "    if d_mean < x < d_max:\n",
    "        j += ['D']\n",
    "    if x == d_mean:\n",
    "        j += ['C']\n",
    "    if x == d_min:\n",
    "        j += ['A']\n",
    "    if x == d_max:\n",
    "        j += ['E']\n",
    "    \n",
    "j = np.reshape(j, d.shape) \n",
    "print(j)"
   ]
  },
  {
   "cell_type": "code",
   "execution_count": null,
   "id": "aware-small",
   "metadata": {},
   "outputs": [],
   "source": []
  }
 ],
 "metadata": {
  "kernelspec": {
   "display_name": "Python 3",
   "language": "python",
   "name": "python3"
  },
  "language_info": {
   "codemirror_mode": {
    "name": "ipython",
    "version": 3
   },
   "file_extension": ".py",
   "mimetype": "text/x-python",
   "name": "python",
   "nbconvert_exporter": "python",
   "pygments_lexer": "ipython3",
   "version": "3.9.2"
  }
 },
 "nbformat": 4,
 "nbformat_minor": 5
}
