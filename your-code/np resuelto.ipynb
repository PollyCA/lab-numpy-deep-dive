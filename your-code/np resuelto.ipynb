{
 "cells": [
  {
   "cell_type": "markdown",
   "id": "married-modern",
   "metadata": {},
   "source": [
    "#1. Import the NUMPY package under the name np.\n"
   ]
  },
  {
   "cell_type": "code",
   "execution_count": 1,
   "id": "frequent-armstrong",
   "metadata": {},
   "outputs": [],
   "source": [
    "import numpy as np"
   ]
  },
  {
   "cell_type": "markdown",
   "id": "typical-mason",
   "metadata": {},
   "source": [
    "#2. Print the NUMPY version and the configuration.\n",
    "\n"
   ]
  },
  {
   "cell_type": "code",
   "execution_count": 4,
   "id": "communist-control",
   "metadata": {},
   "outputs": [
    {
     "name": "stdout",
     "output_type": "stream",
     "text": [
      "1.20.2\n"
     ]
    }
   ],
   "source": [
    "print(np.__version__)"
   ]
  },
  {
   "cell_type": "markdown",
   "id": "incomplete-token",
   "metadata": {},
   "source": [
    "#3. Generate a 2x3x5 3-dimensional array with random values. Assign the array to variable \"a\"\n",
    "#Challenge: there are at least three easy ways that use numpy to generate random arrays. How many ways can you find?\n",
    "\n"
   ]
  },
  {
   "cell_type": "code",
   "execution_count": 3,
   "id": "reserved-lecture",
   "metadata": {},
   "outputs": [
    {
     "data": {
      "text/plain": [
       "array([[[0.47170417, 0.65893307, 0.79910228, 0.26637092, 0.12709129],\n",
       "        [0.14662835, 0.15790513, 0.84735255, 0.91226002, 0.06019453],\n",
       "        [0.60998385, 0.21399586, 0.71566857, 0.03809507, 0.26209272]],\n",
       "\n",
       "       [[0.6591343 , 0.0671747 , 0.469147  , 0.92315535, 0.19758461],\n",
       "        [0.79357583, 0.03180768, 0.45467975, 0.12011119, 0.47972135],\n",
       "        [0.91087231, 0.06833998, 0.78654842, 0.64523418, 0.56749982]]])"
      ]
     },
     "execution_count": 3,
     "metadata": {},
     "output_type": "execute_result"
    }
   ],
   "source": [
    "# Method_1\n",
    "\n",
    "a = np.random.random((2,3,5))\n",
    "\n",
    "a"
   ]
  },
  {
   "cell_type": "code",
   "execution_count": 5,
   "id": "educational-occurrence",
   "metadata": {},
   "outputs": [
    {
     "data": {
      "text/plain": [
       "array([[[0.74287001, 0.76065921, 0.44739795, 0.28749184, 0.01857338],\n",
       "        [0.82455888, 0.67150364, 0.99290188, 0.87629437, 0.98651162],\n",
       "        [0.17520523, 0.46968244, 0.60571639, 0.91820325, 0.71944795]],\n",
       "\n",
       "       [[0.1308814 , 0.66773799, 0.55967138, 0.84384984, 0.84251545],\n",
       "        [0.15995043, 0.44320042, 0.56487305, 0.46174724, 0.11222415],\n",
       "        [0.50789299, 0.51982994, 0.66494504, 0.92842389, 0.78965627]]])"
      ]
     },
     "execution_count": 5,
     "metadata": {},
     "output_type": "execute_result"
    }
   ],
   "source": [
    "# Method_2\n",
    "\n",
    "a = np.random.sample((2,3,5))\n",
    "\n",
    "a"
   ]
  },
  {
   "cell_type": "code",
   "execution_count": 8,
   "id": "cardiovascular-current",
   "metadata": {},
   "outputs": [
    {
     "data": {
      "text/plain": [
       "array([[[0.38599712, 0.92639755, 0.84463653, 0.71919786, 0.5214361 ],\n",
       "        [0.07946926, 0.4230369 , 0.6961126 , 0.18790453, 0.15697763],\n",
       "        [0.02152038, 0.48377616, 0.16689783, 0.71624802, 0.1243263 ]],\n",
       "\n",
       "       [[0.91745883, 0.95854149, 0.15988643, 0.26541625, 0.65456576],\n",
       "        [0.3654516 , 0.44915478, 0.51700422, 0.07650357, 0.61012424],\n",
       "        [0.36785723, 0.12057612, 0.75074789, 0.64831588, 0.82961348]]])"
      ]
     },
     "execution_count": 8,
     "metadata": {},
     "output_type": "execute_result"
    }
   ],
   "source": [
    "# Method_3\n",
    "\n",
    "a = np.random.rand(2,3,5)\n",
    "\n",
    "a"
   ]
  },
  {
   "cell_type": "markdown",
   "id": "urban-experiment",
   "metadata": {},
   "source": [
    "#4. Print a."
   ]
  },
  {
   "cell_type": "code",
   "execution_count": 9,
   "id": "strategic-maintenance",
   "metadata": {},
   "outputs": [
    {
     "name": "stdout",
     "output_type": "stream",
     "text": [
      "[[[0.38599712 0.92639755 0.84463653 0.71919786 0.5214361 ]\n",
      "  [0.07946926 0.4230369  0.6961126  0.18790453 0.15697763]\n",
      "  [0.02152038 0.48377616 0.16689783 0.71624802 0.1243263 ]]\n",
      "\n",
      " [[0.91745883 0.95854149 0.15988643 0.26541625 0.65456576]\n",
      "  [0.3654516  0.44915478 0.51700422 0.07650357 0.61012424]\n",
      "  [0.36785723 0.12057612 0.75074789 0.64831588 0.82961348]]]\n"
     ]
    }
   ],
   "source": [
    "print(a)"
   ]
  },
  {
   "cell_type": "markdown",
   "id": "rational-aircraft",
   "metadata": {},
   "source": [
    "#5. Create a 5x2x3 3-dimensional array with all values equaling 1.\n",
    "#Assign the array to variable \"b\""
   ]
  },
  {
   "cell_type": "code",
   "execution_count": 12,
   "id": "commercial-scope",
   "metadata": {},
   "outputs": [
    {
     "data": {
      "text/plain": [
       "array([[[1., 1., 1.],\n",
       "        [1., 1., 1.]],\n",
       "\n",
       "       [[1., 1., 1.],\n",
       "        [1., 1., 1.]],\n",
       "\n",
       "       [[1., 1., 1.],\n",
       "        [1., 1., 1.]],\n",
       "\n",
       "       [[1., 1., 1.],\n",
       "        [1., 1., 1.]],\n",
       "\n",
       "       [[1., 1., 1.],\n",
       "        [1., 1., 1.]]])"
      ]
     },
     "execution_count": 12,
     "metadata": {},
     "output_type": "execute_result"
    }
   ],
   "source": [
    "b = np.ones((5,2,3))\n",
    "\n",
    "b"
   ]
  },
  {
   "cell_type": "markdown",
   "id": "exterior-pound",
   "metadata": {},
   "source": [
    "#4. Print b."
   ]
  },
  {
   "cell_type": "code",
   "execution_count": 13,
   "id": "ethical-pregnancy",
   "metadata": {},
   "outputs": [
    {
     "name": "stdout",
     "output_type": "stream",
     "text": [
      "[[[1. 1. 1.]\n",
      "  [1. 1. 1.]]\n",
      "\n",
      " [[1. 1. 1.]\n",
      "  [1. 1. 1.]]\n",
      "\n",
      " [[1. 1. 1.]\n",
      "  [1. 1. 1.]]\n",
      "\n",
      " [[1. 1. 1.]\n",
      "  [1. 1. 1.]]\n",
      "\n",
      " [[1. 1. 1.]\n",
      "  [1. 1. 1.]]]\n"
     ]
    }
   ],
   "source": [
    "print(b)"
   ]
  },
  {
   "cell_type": "code",
   "execution_count": null,
   "id": "trying-registrar",
   "metadata": {},
   "outputs": [],
   "source": []
  }
 ],
 "metadata": {
  "kernelspec": {
   "display_name": "Python 3",
   "language": "python",
   "name": "python3"
  },
  "language_info": {
   "codemirror_mode": {
    "name": "ipython",
    "version": 3
   },
   "file_extension": ".py",
   "mimetype": "text/x-python",
   "name": "python",
   "nbconvert_exporter": "python",
   "pygments_lexer": "ipython3",
   "version": "3.9.2"
  }
 },
 "nbformat": 4,
 "nbformat_minor": 5
}
